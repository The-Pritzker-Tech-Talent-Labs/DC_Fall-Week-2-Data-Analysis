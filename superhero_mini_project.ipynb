{
 "cells": [
  {
   "cell_type": "markdown",
   "id": "8a8bfa27",
   "metadata": {},
   "source": [
    "\n",
    "# 🦸‍♀️ Superhero Mini‑Project: How Tall is your average SuperHero?\n",
    "**Duration:** 15–20 minutes  \n",
    "**Tools:** Python, pandas, matplotlib  \n",
    "**Dataset:** `heroes_information.csv` (already provided)\n",
    "\n",
    "Welcome! Today you're a **data detective**. We'll use real superhero data to answer questions like:\n",
    "\n",
    "- Who are the **tallest heroes** on average — Marvel or DC?\n",
    "- How can we **clean messy data** (like wrong heights) so our answers are trustworthy?\n",
    "- How can we get **subsets** of data (e.g., *all female heroes*)?\n",
    "\n",
    "By the end, you'll have loaded, cleaned, explored, and **visualized** superhero data using Python.\n"
   ]
  },
  {
   "cell_type": "markdown",
   "id": "18308321",
   "metadata": {},
   "source": [
    "\n",
    "## 🎯 Learning Goals\n",
    "By the end of this mini‑project, you will:\n",
    "1. Load and inspect a real dataset using **pandas**\n",
    "2. Identify and fix **data quality** issues (like `-99.0` in height/weight)\n",
    "3. Create **subsets** of your data using filters (e.g., all female heroes)\n",
    "4. Compare groups using **groupby** (e.g., average height by publisher)\n",
    "5. Visualize your results with **matplotlib**\n"
   ]
  },
  {
   "cell_type": "markdown",
   "id": "a700fc21",
   "metadata": {},
   "source": [
    "\n",
    "## 1) Setup & Imports (Run me first)\n"
   ]
  },
  {
   "cell_type": "code",
   "execution_count": null,
   "id": "7434a1b6",
   "metadata": {},
   "outputs": [],
   "source": [
    "\n",
    "import pandas as pd\n",
    "import matplotlib.pyplot as plt\n",
    "\n",
    "# Make plots show up in the notebook\n",
    "%matplotlib inline\n",
    "\n",
    "# Optional: widen the display a bit for readability\n",
    "pd.set_option('display.max_columns', 50)\n"
   ]
  },
  {
   "cell_type": "markdown",
   "id": "4758f62f",
   "metadata": {},
   "source": [
    "\n",
    "## 2) Load the Dataset\n",
    "Let's read the CSV file into a pandas DataFrame and peek at the first few rows.\n",
    "\n",
    "To do this you'll need to add the data to your collab using the following steps \n",
    "1. Click the file folder on the right side panel \n",
    "2. rightclick the white space to create a new folder \n",
    "3. rename the new folder `data` \n",
    "4. download [this linked file](https://drive.google.com/file/d/1JYQtyfhhDFLJxM8oKmIlcAIADdAnFlIQ/view?usp=drive_link) from google drive\n",
    "5. click the upload button place this file in your data folder\n",
    "\n"
   ]
  },
  {
   "cell_type": "code",
   "execution_count": null,
   "id": "de7a3c92",
   "metadata": {},
   "outputs": [],
   "source": [
    "# If you've followed the steps above you can use the following code to load the data\n",
    "csv_path = \"data/heros_information.csv\"\n",
    "\n",
    "heros = pd.read_csv(csv_path)\n",
    "heros.head()\n"
   ]
  },
  {
   "cell_type": "markdown",
   "id": "dec1b588",
   "metadata": {},
   "source": [
    "\n",
    "## 3) First Look: What's in our Data?\n",
    "We'll inspect the **columns**, **types**, and some basic **statistics**.\n"
   ]
  },
  {
   "cell_type": "code",
   "execution_count": null,
   "id": "8aec2d81",
   "metadata": {},
   "outputs": [],
   "source": [
    "\n",
    "heroes.info()\n"
   ]
  },
  {
   "cell_type": "code",
   "execution_count": null,
   "id": "e3444674",
   "metadata": {},
   "outputs": [],
   "source": [
    "# lets see what the data looks like\n",
    "heroes.head(20)\n"
   ]
  },
  {
   "cell_type": "markdown",
   "id": "b51fd5f5",
   "metadata": {},
   "source": [
    "\n",
    "### 🔎 Data Quality Check\n",
    "Notice anything odd? For example, sometimes datasets use placeholder values like **`-99.0`** for **unknown** height/weight.  \n",
    "If we don't fix that, our averages and charts will be misleading.\n",
    "\n",
    "👉 **Plan:** Replace `-99.0` with `NaN` (pandas' missing value), then fill missing heights/weights with the **median** value.\n",
    "- **Why median?** It's less affected by extreme outliers than the mean.\n"
   ]
  },
  {
   "cell_type": "markdown",
   "id": "c6778986",
   "metadata": {},
   "source": [
    "\n",
    "## 4) Clean the Data\n",
    "We'll replace placeholder values and handle missing values so our analysis is fair.\n"
   ]
  },
  {
   "cell_type": "code",
   "execution_count": null,
   "id": "bc5cbbb9",
   "metadata": {},
   "outputs": [],
   "source": [
    "\n",
    "# Replace placeholder numeric values (-99.0) with NA\n",
    "heroes = heroes.replace(-99.0, pd.NA)\n",
    "\n",
    "# Fill missing height/weight with the column median (robust to outliers)\n",
    "heroes['Height'] = pd.to_numeric(heroes['Height'], errors='coerce')\n",
    "heroes['Weight'] = pd.to_numeric(heroes['Weight'], errors='coerce')\n",
    "heroes['Height'] = heroes['Height'].fillna(heroes['Height'].median())\n",
    "heroes['Weight'] = heroes['Weight'].fillna(heroes['Weight'].median())\n",
    "\n",
    "# Quick re-check\n",
    "heroes[['Height','Weight']].describe()\n"
   ]
  },
  {
   "cell_type": "markdown",
   "id": "193404e4",
   "metadata": {},
   "source": [
    "- After a bit of clean up , the one line of code above shows the info of the tallest, shortest, heaviest, and lightest heroes\n",
    "\n",
    "\n"
   ]
  },
  {
   "cell_type": "code",
   "execution_count": null,
   "id": "41ef0b8a",
   "metadata": {},
   "outputs": [],
   "source": [
    "# lets find out the names of these heros\n",
    "tallest_hero = heroes[heroes['Height'] == heroes['Height'].max()]\n",
    "shortest_hero = heroes[heroes['Height'] == heroes['Height'].min()]\n",
    "heaviest_hero = heroes[heroes['Weight'] == heroes['Weight'].max()]\n",
    "lightest_hero = heroes[heroes['Weight'] == heroes['Weight'].min()]\n",
    "\n",
    "print(\"The tallest hero is: \", tallest_hero.name.values[0], \"with a height of\", tallest_hero.Height.values[0], \"cm\")\n",
    "print(\"The shortest hero is: \", shortest_hero.name.values[0], \"with a height of\", shortest_hero.Height.values[0], \"cm\")\n",
    "print(\"The heaviest hero is: \", heaviest_hero.name.values[0], \"with a weight of\", heaviest_hero.Weight.values[0], \"kg\")\n",
    "print(\"The lightest hero is: \", lightest_hero.name.values[0], \"with a weight of\", lightest_hero.Weight.values[0], \"kg\")\n",
    "\n",
    "\n"
   ]
  },
  {
   "cell_type": "markdown",
   "id": "0d810a95",
   "metadata": {},
   "source": [
    "\n",
    "## 5) Getting a Subset: All Female Heroes\n",
    "**Question:** How can we get a subset of **all female** characters?  \n",
    "We use a **Boolean filter** on the `Gender` column.\n"
   ]
  },
  {
   "cell_type": "code",
   "execution_count": null,
   "id": "7fcd51db",
   "metadata": {},
   "outputs": [],
   "source": [
    "\n",
    "female_heroes = heroes[heroes['Gender'] == 'Female']\n",
    "\n",
    "\n",
    "len_female = len(female_heroes)\n",
    "len_total = len(heroes)\n",
    "print(f\"Female heroes: {len_female} out of {len_total} total heroes\")\n",
    "female_heroes.head()\n"
   ]
  },
  {
   "cell_type": "markdown",
   "id": "fa860bba",
   "metadata": {},
   "source": [
    "\n",
    "> ✅ **Try it yourself:** Change `\"Female\"` to `\"Male\"` or try another column like `Alignment` (e.g., `\"good\"`, `\"bad\"`, `\"neutral\"`).\n"
   ]
  },
  {
   "cell_type": "code",
   "execution_count": null,
   "id": "0a567d6f",
   "metadata": {},
   "outputs": [],
   "source": [
    "# create a boolean mask for a new filtered dataset\n",
    "boolean_mask = heroes['Gender'] == 'Female' # update this to filter by a different column\n",
    "filtered_heroes = heroes[boolean_mask]\n",
    "\n",
    "\n",
    "len_filtered = len(filtered_heroes)\n",
    "len_total = len(heroes)\n",
    "print(f\"heroes: {len_filtered} out of {len_total} total heroes\")\n",
    "filtered_heroes.head()"
   ]
  },
  {
   "cell_type": "markdown",
   "id": "28e3e070",
   "metadata": {},
   "source": [
    "\n",
    "## 6) Who Publishes the Tallest Heroes (on average)?\n",
    "We'll compare the **average height** grouped by `Publisher`.  \n",
    "Then we'll visualize the result with a simple bar chart.\n"
   ]
  },
  {
   "cell_type": "code",
   "execution_count": null,
   "id": "3445e07f",
   "metadata": {},
   "outputs": [],
   "source": [
    "\n",
    "publisher_height = heroes.groupby('Publisher', dropna=True)['Height'].mean().sort_values(ascending=False)\n",
    "publisher_height\n"
   ]
  },
  {
   "cell_type": "code",
   "execution_count": null,
   "id": "51bb18f1",
   "metadata": {},
   "outputs": [],
   "source": [
    "\n",
    "# Bar chart of average height by publisher\n",
    "publisher_height.plot(kind='bar', figsize=(9,4))\n",
    "plt.title(\"Average Hero Height by Publisher\")\n",
    "plt.xlabel(\"Publisher\")\n",
    "plt.ylabel(\"Average Height (cm)\")\n",
    "plt.xticks(rotation=45, ha='right')\n",
    "plt.tight_layout()\n",
    "plt.show()\n"
   ]
  },
  {
   "cell_type": "markdown",
   "id": "44aeb74e",
   "metadata": {},
   "source": [
    "\n",
    "### (Optional View) Marvel vs DC Focus\n",
    "Sometimes it's easier to compare the two biggest publishers directly.\n"
   ]
  },
  {
   "cell_type": "code",
   "execution_count": null,
   "id": "555bab19",
   "metadata": {},
   "outputs": [],
   "source": [
    "\n",
    "top_publishers = heroes[heroes['Publisher'].isin(['Marvel Comics', 'DC Comics'])]\n",
    "marvel_dc_height = top_publishers.groupby('Publisher')['Height'].mean().sort_values(ascending=False)\n",
    "marvel_dc_height\n"
   ]
  },
  {
   "cell_type": "code",
   "execution_count": null,
   "id": "821b140e",
   "metadata": {},
   "outputs": [],
   "source": [
    "\n",
    "marvel_dc_height.plot(kind='bar', figsize=(6,4))\n",
    "plt.title(\"Average Hero Height: Marvel vs DC\")\n",
    "plt.xlabel(\"Publisher\")\n",
    "plt.ylabel(\"Average Height (cm)\")\n",
    "plt.xticks(rotation=0)\n",
    "plt.tight_layout()\n",
    "plt.show()\n"
   ]
  },
  {
   "cell_type": "code",
   "execution_count": null,
   "id": "cdeaf3a5",
   "metadata": {},
   "outputs": [],
   "source": [
    "# lets include a scatter plot of height  vs weight of heros and color code marvel and dc characters\n",
    "\n",
    "# First, we'll create a new dataframe that only includes the heroes from Marvel and DC\n",
    "marvel_dc_heroes = heroes[heroes['Publisher'].isin(['Marvel Comics', 'DC Comics'])]\n",
    "\n",
    "# Now, we'll create a scatter plot of height vs weight\n",
    "plt.figure(figsize=(10, 6))\n",
    "plt.scatter(marvel_dc_heroes['Height'], marvel_dc_heroes['Weight'], c=marvel_dc_heroes['Publisher'].map({'Marvel Comics': 'red', 'DC Comics': 'blue'}))\n",
    "plt.xlabel('Height (cm)')\n",
    "plt.ylabel('Weight (kg)')\n",
    "\n"
   ]
  },
  {
   "cell_type": "markdown",
   "id": "9aa36159",
   "metadata": {},
   "source": [
    "\n",
    "## 7) Reflect & Explain \n",
    "Now's your chance to explain what you've found in your data. \n",
    "\n",
    "- What surprised you about the results?\n",
    "- Why was **data cleaning** important today?\n",
    "- If you changed how we filled missing values (mean vs median), how might the results differ?\n",
    "- (Bonus thought) How would the answer change if we only looked at **good** heroes?\n",
    "\n",
    "---"
   ]
  },
  {
   "cell_type": "markdown",
   "id": "50b4f11b",
   "metadata": {},
   "source": [
    "#### Double click this cell and erase it to write your explanation."
   ]
  },
  {
   "cell_type": "markdown",
   "id": "af7f67c0",
   "metadata": {},
   "source": []
  }
 ],
 "metadata": {
  "kernelspec": {
   "display_name": "Python 3",
   "language": "python",
   "name": "python3"
  },
  "language_info": {
   "codemirror_mode": {
    "name": "ipython",
    "version": 3
   },
   "file_extension": ".py",
   "mimetype": "text/x-python",
   "name": "python",
   "nbconvert_exporter": "python",
   "pygments_lexer": "ipython3",
   "version": "3.9.6"
  }
 },
 "nbformat": 4,
 "nbformat_minor": 5
}
